{
 "cells": [
  {
   "cell_type": "code",
   "execution_count": 5,
   "metadata": {},
   "outputs": [],
   "source": [
    "a = [\"12\",\"1243\",\"32\",\"45\",\"63\"]\n",
    "a.sort()"
   ]
  },
  {
   "cell_type": "code",
   "execution_count": 6,
   "metadata": {},
   "outputs": [
    {
     "data": {
      "text/plain": [
       "['12', '1243', '32', '45', '63']"
      ]
     },
     "execution_count": 6,
     "metadata": {},
     "output_type": "execute_result"
    }
   ],
   "source": [
    "a"
   ]
  },
  {
   "cell_type": "code",
   "execution_count": 7,
   "metadata": {},
   "outputs": [],
   "source": [
    "#编写一个排序程序，对列表中的字符串进行排序，字符串均为非负整数，按照最高位数字大小排序，如果最高位相同，则比较次高位，以此类推。\n",
    "a.sort(key=lambda x: int(x[0]))"
   ]
  },
  {
   "cell_type": "code",
   "execution_count": 8,
   "metadata": {},
   "outputs": [
    {
     "data": {
      "text/plain": [
       "['12', '1243', '32', '45', '63']"
      ]
     },
     "execution_count": 8,
     "metadata": {},
     "output_type": "execute_result"
    }
   ],
   "source": [
    "a"
   ]
  },
  {
   "cell_type": "code",
   "execution_count": 9,
   "metadata": {},
   "outputs": [
    {
     "name": "stdout",
     "output_type": "stream",
     "text": [
      "['12', '345', '4321', '6', '78', '90']\n"
     ]
    }
   ],
   "source": [
    "def sort_list_of_strings(lst):\n",
    "    return sorted(lst, key=lambda s: [int(c) for c in s])\n",
    "\n",
    "lst = [\"12\", \"345\", \"78\", \"6\", \"90\", \"4321\"]\n",
    "sorted_lst = sort_list_of_strings(lst)\n",
    "print(sorted_lst)\n"
   ]
  },
  {
   "cell_type": "code",
   "execution_count": 10,
   "metadata": {},
   "outputs": [
    {
     "name": "stdout",
     "output_type": "stream",
     "text": [
      "['90', '78', '6', '4321', '345', '12']\n"
     ]
    }
   ],
   "source": [
    "def sort_list_of_strings(lst):\n",
    "    return sorted(lst, key=lambda s: [int(c) for c in s], reverse=True)\n",
    "\n",
    "lst = [\"12\", \"345\", \"78\", \"6\", \"90\", \"4321\"]\n",
    "sorted_lst = sort_list_of_strings(lst)\n",
    "print(sorted_lst)\n"
   ]
  },
  {
   "cell_type": "code",
   "execution_count": 17,
   "metadata": {},
   "outputs": [
    {
     "name": "stdout",
     "output_type": "stream",
     "text": [
      "[1, 1] [[1]]\n",
      "[1, 0, 1] [[1], [1, 1]]\n",
      "3\n",
      "[1, 1]\n",
      "[1, 0, 0, 1] [[1], [1, 1], [1, 2, 1]]\n",
      "4\n",
      "[1, 2, 1]\n",
      "[1, 2, 1]\n",
      "[1, 0, 0, 0, 1] [[1], [1, 1], [1, 2, 1], [1, 3, 3, 1]]\n",
      "5\n",
      "[1, 3, 3, 1]\n",
      "[1, 3, 3, 1]\n",
      "[1, 3, 3, 1]\n"
     ]
    }
   ],
   "source": [
    "numRows = 5\n",
    "ans = []\n",
    "\n",
    "if numRows>0:\n",
    "    ans.append([1])\n",
    "if numRows>1:\n",
    "    for layer_n in range(2,numRows+1):\n",
    "        cur_layer = [0]*layer_n\n",
    "        cur_layer[0] = 1\n",
    "        cur_layer[-1] = 1\n",
    "        print(cur_layer,ans)\n",
    "        if layer_n>2:\n",
    "            print(layer_n)\n",
    "            for i in range(1,layer_n-1):\n",
    "                print(ans[-1])\n",
    "                cur_layer[i] = ans[-1][i-1]+ans[-1][i]\n",
    "        ans.append(cur_layer)\n",
    "                \n"
   ]
  },
  {
   "cell_type": "code",
   "execution_count": 18,
   "metadata": {},
   "outputs": [
    {
     "data": {
      "text/plain": [
       "[[1], [1, 1], [1, 2, 1], [1, 3, 3, 1], [1, 4, 6, 4, 1]]"
      ]
     },
     "execution_count": 18,
     "metadata": {},
     "output_type": "execute_result"
    }
   ],
   "source": [
    "ans"
   ]
  },
  {
   "cell_type": "code",
   "execution_count": 23,
   "metadata": {},
   "outputs": [],
   "source": [
    "a = \"afd\"\n",
    "b = tuple(sorted(a))"
   ]
  },
  {
   "cell_type": "code",
   "execution_count": 24,
   "metadata": {},
   "outputs": [
    {
     "data": {
      "text/plain": [
       "('a', 'd', 'f')"
      ]
     },
     "execution_count": 24,
     "metadata": {},
     "output_type": "execute_result"
    }
   ],
   "source": [
    "b"
   ]
  },
  {
   "cell_type": "code",
   "execution_count": 28,
   "metadata": {},
   "outputs": [
    {
     "name": "stdout",
     "output_type": "stream",
     "text": [
      "('a', 'e', 't')\n",
      "('a', 'e', 't')\n",
      "('a', 'n', 't')\n",
      "('a', 'e', 't')\n",
      "('a', 'n', 't')\n",
      "('a', 'b', 't')\n",
      "{('a', 'e', 't'): ['eat', 'tea', 'ate'], ('a', 'n', 't'): ['tan', 'nat'], ('a', 'b', 't'): ['bat']}\n",
      "[['eat', 'tea', 'ate'], ['tan', 'nat'], ['bat']]\n"
     ]
    }
   ],
   "source": [
    "strs = [\"eat\", \"tea\", \"tan\", \"ate\", \"nat\", \"bat\"]\n",
    "check = {}\n",
    "for s in strs:\n",
    "    key = tuple(sorted(s))#tuple是不可变的，可以作为字典的key\n",
    "    print(key)\n",
    "    check[key] = check.get(key, []) + [s]\n",
    "print(check)\n",
    "print(list(check.values()))"
   ]
  },
  {
   "cell_type": "code",
   "execution_count": 1,
   "metadata": {},
   "outputs": [
    {
     "data": {
      "text/plain": [
       "1"
      ]
     },
     "execution_count": 1,
     "metadata": {},
     "output_type": "execute_result"
    }
   ],
   "source": [
    "3^2"
   ]
  },
  {
   "cell_type": "code",
   "execution_count": 2,
   "metadata": {},
   "outputs": [
    {
     "data": {
      "text/plain": [
       "0"
      ]
     },
     "execution_count": 2,
     "metadata": {},
     "output_type": "execute_result"
    }
   ],
   "source": [
    "3^3"
   ]
  },
  {
   "cell_type": "code",
   "execution_count": 1,
   "metadata": {},
   "outputs": [],
   "source": [
    " def gcd(a, b):\n",
    "    if b == 0:\n",
    "        return a\n",
    "    else:\n",
    "        return gcd(b, a % b)"
   ]
  },
  {
   "cell_type": "code",
   "execution_count": 3,
   "metadata": {},
   "outputs": [
    {
     "data": {
      "text/plain": [
       "1"
      ]
     },
     "execution_count": 3,
     "metadata": {},
     "output_type": "execute_result"
    }
   ],
   "source": [
    "gcd(0,1)"
   ]
  },
  {
   "cell_type": "code",
   "execution_count": 16,
   "metadata": {},
   "outputs": [],
   "source": [
    "def maxPoints(points):\n",
    "# 暴力法\n",
    "# 两点确定一条直线，遍历所有的点，看看有多少个点在这条直线上\n",
    "# 但是这样的话，会有一个问题，就是斜率的表示，因为斜率是一个浮点数，所以不能直接用斜率来表示\n",
    "# 但是可以用最简分数来表示斜率，这样就可以用一个字典来表示斜率了\n",
    "# 但是这样的话，还有一个问题，就是斜率可能是无穷大，所以还要单独考虑，在代码中，用一个元组来表示\n",
    "# 还有一个问题，就是斜率可能是0，所以还要单独考虑\n",
    "# 还有一个问题，就是有可能有重复的点，所以还要单独考虑\n",
    "\n",
    "    def gcd(a, b):\n",
    "        if b == 0:\n",
    "            return a\n",
    "        else:\n",
    "            return gcd(b, a % b)\n",
    "\n",
    "    n = len(points)\n",
    "    if n <= 2:\n",
    "        return n\n",
    "    res = 0\n",
    "    for i in range(n):\n",
    "        xielv = {}\n",
    "        same = 0\n",
    "        for j in range(i + 1, n):\n",
    "            if points[i][0] == points[j][0] and points[i][1] == points[j][1]:\n",
    "                same += 1\n",
    "                continue\n",
    "            x_delta = points[j][0] - points[i][0]\n",
    "            y_delta = points[j][1] - points[i][1]\n",
    "            #斜率无穷和斜率为0的情况，gcd都等于1\n",
    "            g = gcd(x_delta, y_delta)\n",
    "            print(i,g,y_delta, x_delta)\n",
    "            x_delta //= g\n",
    "            y_delta //= g\n",
    "\n",
    "            k = (y_delta, x_delta)\n",
    "            xielv[k] = xielv.get(k, 0) + 1\n",
    "            #print(i,xielv)\n",
    "        if xielv:\n",
    "            res = max(res, max(xielv.values()) + same + 1)\n",
    "        else:\n",
    "            res = max(res, same + 1)\n",
    "    return res"
   ]
  },
  {
   "cell_type": "code",
   "execution_count": 17,
   "metadata": {},
   "outputs": [
    {
     "name": "stdout",
     "output_type": "stream",
     "text": [
      "0 1 1 0\n",
      "0 2 2 0\n",
      "1 1 1 0\n"
     ]
    },
    {
     "data": {
      "text/plain": [
       "3"
      ]
     },
     "execution_count": 17,
     "metadata": {},
     "output_type": "execute_result"
    }
   ],
   "source": [
    "maxPoints([[1,1],[1,2],[1,3]])"
   ]
  },
  {
   "cell_type": "code",
   "execution_count": 12,
   "metadata": {},
   "outputs": [],
   "source": [
    "def gcd(a, b):\n",
    "    if b == 0:\n",
    "        return a\n",
    "    else:\n",
    "        return gcd(b, a % b)\n"
   ]
  },
  {
   "cell_type": "code",
   "execution_count": 15,
   "metadata": {},
   "outputs": [
    {
     "data": {
      "text/plain": [
       "2"
      ]
     },
     "execution_count": 15,
     "metadata": {},
     "output_type": "execute_result"
    }
   ],
   "source": [
    "gcd(0,2)"
   ]
  },
  {
   "cell_type": "code",
   "execution_count": 20,
   "metadata": {},
   "outputs": [],
   "source": [
    "from heapq import *\n",
    "a = [5,2,5,6,7,8,9]\n",
    "heapify(a)"
   ]
  },
  {
   "cell_type": "code",
   "execution_count": 22,
   "metadata": {},
   "outputs": [],
   "source": [
    "heappush(a,1)"
   ]
  },
  {
   "cell_type": "code",
   "execution_count": 23,
   "metadata": {},
   "outputs": [
    {
     "data": {
      "text/plain": [
       "[1, 2, 5, 5, 7, 8, 9, 6]"
      ]
     },
     "execution_count": 23,
     "metadata": {},
     "output_type": "execute_result"
    }
   ],
   "source": [
    "a"
   ]
  },
  {
   "cell_type": "code",
   "execution_count": 24,
   "metadata": {},
   "outputs": [
    {
     "data": {
      "text/plain": [
       "1"
      ]
     },
     "execution_count": 24,
     "metadata": {},
     "output_type": "execute_result"
    }
   ],
   "source": [
    "heappop(a)"
   ]
  },
  {
   "cell_type": "code",
   "execution_count": 25,
   "metadata": {},
   "outputs": [
    {
     "data": {
      "text/plain": [
       "'1'"
      ]
     },
     "execution_count": 25,
     "metadata": {},
     "output_type": "execute_result"
    }
   ],
   "source": [
    "\"1\".lower()"
   ]
  },
  {
   "cell_type": "code",
   "execution_count": null,
   "metadata": {},
   "outputs": [],
   "source": []
  }
 ],
 "metadata": {
  "kernelspec": {
   "display_name": "base",
   "language": "python",
   "name": "python3"
  },
  "language_info": {
   "codemirror_mode": {
    "name": "ipython",
    "version": 3
   },
   "file_extension": ".py",
   "mimetype": "text/x-python",
   "name": "python",
   "nbconvert_exporter": "python",
   "pygments_lexer": "ipython3",
   "version": "3.9.7"
  },
  "orig_nbformat": 4
 },
 "nbformat": 4,
 "nbformat_minor": 2
}
