{
 "cells": [
  {
   "cell_type": "code",
   "execution_count": 32,
   "metadata": {},
   "outputs": [
    {
     "name": "stdout",
     "output_type": "stream",
     "text": [
      "{67: 0}\n",
      "['2']\n",
      "{67: 0, 4: 1}\n",
      "['2', '0']\n",
      "{67: 0, 4: 1, 40: 2}\n",
      "['2', '0', '1']\n",
      "1.(201)\n"
     ]
    }
   ],
   "source": [
    "numerator = 400\n",
    "denominator = 333\n",
    "sign = (numerator>0) is (denominator>0)#True是正数，False是负数\n",
    "numerator, denominator = abs(numerator), abs(denominator)\n",
    "integer = numerator//denominator\n",
    "remainder = numerator%denominator\n",
    "#print(remainder)\n",
    "if remainder == 0:\n",
    "    print(str(integer) if sign else '-'+str(integer))\n",
    "else:#有小数，需要找循环节，用字典来记录余数和对应的位置，如果出现重复的余数，说明有循环节\n",
    "    decimal = []#小数部分，用列表来存储，最后用join来连接\n",
    "    remainder_dict = {}#用字典来存储余数和对应的位置，如果出现重复的余数，说明有循环节\n",
    "    while remainder != 0:#余数为0说明除尽了，没有循环节\n",
    "        #print(remainder)\n",
    "        if remainder in remainder_dict:#出现重复的余数，说明有循环节\n",
    "            decimal.insert(remainder_dict[remainder], '(')#在循环节开始的位置插入'('\n",
    "            decimal.append(')')#在循环节结束的位置插入')'\n",
    "            break#跳出循环\n",
    "        remainder_dict[remainder] = len(decimal)#记录余数和对应的位置\n",
    "        remainder *= 10#余数乘以10，然后除以除数，得到商和余数\n",
    "        \n",
    "        decimal.append(str(remainder//denominator))#商加入到小数部分\n",
    "        print(remainder_dict)\n",
    "        print(decimal)\n",
    "        remainder %= denominator#更新余数\n",
    "    print(str(integer)+'.'+''.join(decimal) if sign else '-'+str(integer)+'.'+''.join(decimal))"
   ]
  },
  {
   "cell_type": "code",
   "execution_count": null,
   "metadata": {},
   "outputs": [],
   "source": []
  }
 ],
 "metadata": {
  "kernelspec": {
   "display_name": "base",
   "language": "python",
   "name": "python3"
  },
  "language_info": {
   "codemirror_mode": {
    "name": "ipython",
    "version": 3
   },
   "file_extension": ".py",
   "mimetype": "text/x-python",
   "name": "python",
   "nbconvert_exporter": "python",
   "pygments_lexer": "ipython3",
   "version": "3.9.7"
  },
  "orig_nbformat": 4
 },
 "nbformat": 4,
 "nbformat_minor": 2
}
