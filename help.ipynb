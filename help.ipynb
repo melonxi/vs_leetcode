{
 "cells": [
  {
   "cell_type": "code",
   "execution_count": 6,
   "metadata": {},
   "outputs": [],
   "source": [
    "#python的位运算符，异或\n"
   ]
  },
  {
   "cell_type": "code",
   "execution_count": 7,
   "metadata": {},
   "outputs": [
    {
     "data": {
      "text/plain": [
       "-0.5"
      ]
     },
     "execution_count": 7,
     "metadata": {},
     "output_type": "execute_result"
    }
   ],
   "source": [
    "-1/2"
   ]
  },
  {
   "cell_type": "code",
   "execution_count": 8,
   "metadata": {},
   "outputs": [
    {
     "data": {
      "text/plain": [
       "0"
      ]
     },
     "execution_count": 8,
     "metadata": {},
     "output_type": "execute_result"
    }
   ],
   "source": [
    "int(-0.5)"
   ]
  },
  {
   "cell_type": "code",
   "execution_count": 9,
   "metadata": {},
   "outputs": [
    {
     "data": {
      "text/plain": [
       "-1"
      ]
     },
     "execution_count": 9,
     "metadata": {},
     "output_type": "execute_result"
    }
   ],
   "source": [
    "int(-1.4)"
   ]
  },
  {
   "cell_type": "code",
   "execution_count": 10,
   "metadata": {},
   "outputs": [
    {
     "data": {
      "text/plain": [
       "-1"
      ]
     },
     "execution_count": 10,
     "metadata": {},
     "output_type": "execute_result"
    }
   ],
   "source": [
    "int(-1.6)"
   ]
  },
  {
   "cell_type": "code",
   "execution_count": 3,
   "metadata": {},
   "outputs": [
    {
     "ename": "SyntaxError",
     "evalue": "invalid syntax (2177795355.py, line 1)",
     "output_type": "error",
     "traceback": [
      "\u001b[1;36m  Input \u001b[1;32mIn [3]\u001b[1;36m\u001b[0m\n\u001b[1;33m    111->1\u001b[0m\n\u001b[1;37m       ^\u001b[0m\n\u001b[1;31mSyntaxError\u001b[0m\u001b[1;31m:\u001b[0m invalid syntax\n"
     ]
    }
   ],
   "source": [
    "dp = [i for i in range(n+1)]  # 初始化动态规划数组\n",
    "\n",
    "    # 从小到大找所有的完全平方数，并更新 dp\n",
    "for i in range(2, n+1):\n",
    "    for j in range(1, int(i ** 0.5) + 1):\n",
    "        dp[i] = min(dp[i], dp[i - j*j] + 1)\n",
    "\n",
    "return dp[n]"
   ]
  },
  {
   "cell_type": "code",
   "execution_count": 19,
   "metadata": {},
   "outputs": [
    {
     "name": "stdout",
     "output_type": "stream",
     "text": [
      "[0, 1, 2, 3, 4, 5, 6, 7, 8, 9, 10, 11, 12]\n",
      "1\n",
      "1 1\n",
      "2\n",
      "2 1\n",
      "3\n",
      "3 1\n",
      "4\n",
      "4 1\n",
      "4 2\n",
      "5\n",
      "5 1\n",
      "5 2\n",
      "6\n",
      "6 1\n",
      "6 2\n",
      "7\n",
      "7 1\n",
      "7 2\n",
      "8\n",
      "8 1\n",
      "8 2\n",
      "9\n",
      "9 1\n",
      "9 2\n",
      "9 3\n",
      "10\n",
      "10 1\n",
      "10 2\n",
      "10 3\n",
      "11\n",
      "11 1\n",
      "11 2\n",
      "11 3\n",
      "12\n",
      "12 1\n",
      "12 2\n",
      "12 3\n"
     ]
    }
   ],
   "source": [
    "n = 12\n",
    "DP = [i for i in range(n+1)]\n",
    "print(DP)\n",
    "\n",
    "for i in range(1,n+1):\n",
    "    print(i)\n",
    "    for j in range(1,i+1):\n",
    "        if j*j <= i:\n",
    "            print(i,j)\n",
    "            DP[i] = min(DP[i],DP[i-j*j]+1)"
   ]
  },
  {
   "cell_type": "code",
   "execution_count": 20,
   "metadata": {},
   "outputs": [
    {
     "data": {
      "text/plain": [
       "[0, 1, 2, 3, 1, 2, 3, 4, 2, 1, 2, 3, 3]"
      ]
     },
     "execution_count": 20,
     "metadata": {},
     "output_type": "execute_result"
    }
   ],
   "source": [
    "DP"
   ]
  },
  {
   "cell_type": "code",
   "execution_count": 23,
   "metadata": {},
   "outputs": [],
   "source": [
    "def firstMissingPositive(nums):\n",
    "        #原地hash，index是从0开始的，每个index都尽量填充index+1的数\n",
    "        #完成遍历填充之后，再次遍历，当发现nums[index]!=index+1时输出index+1\n",
    "        #如果都对应就输出列表长度加1\n",
    "        #重点是原地hash的过程，在遍历每个位置是，需要在循环内部进行一个位置替换的循环，即\n",
    "        #当0<nums[i]<=len(nums)时，把nums[i]和nums[nums[i]-1]进行交换，直到不符合判断条件再跳出\n",
    "        if not nums:\n",
    "            return 1\n",
    "        n = len(nums)\n",
    "        for i in range(n):\n",
    "            while 0<nums[i]<=len(nums) and  nums[i]!=i+1:\n",
    "                nums[nums[i] - 1], nums[i] = nums[i], nums[nums[i] - 1]\n",
    "                #nums[i],nums[nums[i] - 1] = nums[nums[i]-1],nums[i]\n",
    "        \n",
    "        for index in range(n):\n",
    "            if nums[index]!=index+1:\n",
    "                return index+1\n",
    "        return n+1"
   ]
  },
  {
   "cell_type": "code",
   "execution_count": 24,
   "metadata": {},
   "outputs": [
    {
     "ename": "KeyboardInterrupt",
     "evalue": "",
     "output_type": "error",
     "traceback": [
      "\u001b[1;31m---------------------------------------------------------------------------\u001b[0m",
      "\u001b[1;31mKeyboardInterrupt\u001b[0m                         Traceback (most recent call last)",
      "\u001b[1;32me:\\找工作\\刷题\\vs_leetcode\\help.ipynb 单元格 10\u001b[0m in \u001b[0;36m<cell line: 1>\u001b[1;34m()\u001b[0m\n\u001b[1;32m----> <a href='vscode-notebook-cell:/e%3A/%E6%89%BE%E5%B7%A5%E4%BD%9C/%E5%88%B7%E9%A2%98/vs_leetcode/help.ipynb#X12sZmlsZQ%3D%3D?line=0'>1</a>\u001b[0m firstMissingPositive([\u001b[39m1\u001b[39;49m,\u001b[39m1\u001b[39;49m,\u001b[39m2\u001b[39;49m])\n",
      "\u001b[1;32me:\\找工作\\刷题\\vs_leetcode\\help.ipynb 单元格 10\u001b[0m in \u001b[0;36mfirstMissingPositive\u001b[1;34m(nums)\u001b[0m\n\u001b[0;32m     <a href='vscode-notebook-cell:/e%3A/%E6%89%BE%E5%B7%A5%E4%BD%9C/%E5%88%B7%E9%A2%98/vs_leetcode/help.ipynb#X12sZmlsZQ%3D%3D?line=9'>10</a>\u001b[0m \u001b[39mfor\u001b[39;00m i \u001b[39min\u001b[39;00m \u001b[39mrange\u001b[39m(n):\n\u001b[0;32m     <a href='vscode-notebook-cell:/e%3A/%E6%89%BE%E5%B7%A5%E4%BD%9C/%E5%88%B7%E9%A2%98/vs_leetcode/help.ipynb#X12sZmlsZQ%3D%3D?line=10'>11</a>\u001b[0m     \u001b[39mwhile\u001b[39;00m \u001b[39m0\u001b[39m\u001b[39m<\u001b[39mnums[i]\u001b[39m<\u001b[39m\u001b[39m=\u001b[39m\u001b[39mlen\u001b[39m(nums) \u001b[39mand\u001b[39;00m  nums[i]\u001b[39m!=\u001b[39mi\u001b[39m+\u001b[39m\u001b[39m1\u001b[39m:\n\u001b[1;32m---> <a href='vscode-notebook-cell:/e%3A/%E6%89%BE%E5%B7%A5%E4%BD%9C/%E5%88%B7%E9%A2%98/vs_leetcode/help.ipynb#X12sZmlsZQ%3D%3D?line=11'>12</a>\u001b[0m         nums[nums[i] \u001b[39m-\u001b[39m \u001b[39m1\u001b[39m], nums[i] \u001b[39m=\u001b[39m nums[i], nums[nums[i] \u001b[39m-\u001b[39m \u001b[39m1\u001b[39m]\n\u001b[0;32m     <a href='vscode-notebook-cell:/e%3A/%E6%89%BE%E5%B7%A5%E4%BD%9C/%E5%88%B7%E9%A2%98/vs_leetcode/help.ipynb#X12sZmlsZQ%3D%3D?line=12'>13</a>\u001b[0m         \u001b[39m#nums[i],nums[nums[i] - 1] = nums[nums[i]-1],nums[i]\u001b[39;00m\n\u001b[0;32m     <a href='vscode-notebook-cell:/e%3A/%E6%89%BE%E5%B7%A5%E4%BD%9C/%E5%88%B7%E9%A2%98/vs_leetcode/help.ipynb#X12sZmlsZQ%3D%3D?line=14'>15</a>\u001b[0m \u001b[39mfor\u001b[39;00m index \u001b[39min\u001b[39;00m \u001b[39mrange\u001b[39m(n):\n",
      "\u001b[1;31mKeyboardInterrupt\u001b[0m: "
     ]
    }
   ],
   "source": [
    "firstMissingPositive([1,1,2])"
   ]
  },
  {
   "cell_type": "code",
   "execution_count": 1,
   "metadata": {},
   "outputs": [
    {
     "data": {
      "text/plain": [
       "{'a', 'b'}"
      ]
     },
     "execution_count": 1,
     "metadata": {},
     "output_type": "execute_result"
    }
   ],
   "source": [
    "set(\"ab\")"
   ]
  },
  {
   "cell_type": "code",
   "execution_count": 41,
   "metadata": {},
   "outputs": [],
   "source": [
    "def minWindow(s,t):\n",
    "from collections import defaultdict\n",
    "class Solution:\n",
    "    def minWindow(self, s: str, t: str) -> str:\n",
    "        num2freq = defaultdict(int)\n",
    "        n = len(t)\n",
    "        for char in t:\n",
    "            num2freq[char]+=1\n",
    "        distance = n\n",
    "        min_left = 0\n",
    "        min_right = len(s)\n",
    "        left = 0\n",
    "        for right in range(len(s)):\n",
    "            \n",
    "            if num2freq[s[right]]>0:\n",
    "                distance-=1\n",
    "            num2freq[s[right]]-=1\n",
    "            if distance==0:\n",
    "                while num2freq[s[left]]<0:\n",
    "                    num2freq[s[left]]+=1\n",
    "                    left+=1\n",
    "            \n",
    "                if right-left < min_right - min_left:\n",
    "                    min_left,min_right = left,right\n",
    "            \n",
    "                num2freq[s[left]]+=1\n",
    "                left+=1\n",
    "                distance+=1\n",
    "        \n",
    "        return \"\" if min_right==len(s) else s[min_left:min_right+1]\n"
   ]
  },
  {
   "cell_type": "code",
   "execution_count": 39,
   "metadata": {},
   "outputs": [],
   "source": []
  },
  {
   "cell_type": "code",
   "execution_count": 40,
   "metadata": {},
   "outputs": [
    {
     "name": "stdout",
     "output_type": "stream",
     "text": [
      "help_dict {'A': -1, 'B': -1, 'C': -1}\n",
      "0 0 {'A': 0, 'B': -1, 'C': -1} 2\n",
      "0 1 {'A': 0, 'B': -1, 'C': -1} 2\n",
      "0 2 {'A': 0, 'B': -1, 'C': -1} 2\n",
      "0 3 {'A': 0, 'B': 0, 'C': -1} 1\n",
      "0 4 {'A': 0, 'B': 0, 'C': -1} 1\n",
      "0 5 {'A': 0, 'B': 0, 'C': 0} 0\n",
      "1 6 {'A': -1, 'B': 0, 'C': 0} 1\n",
      "1 7 {'A': -1, 'B': 0, 'C': 0} 1\n",
      "1 8 {'A': -1, 'B': 0, 'C': 0} 1\n",
      "1 9 {'A': 0, 'B': 0, 'C': 0} 0\n",
      "4 10 {'A': 0, 'B': -1, 'C': 0} 1\n",
      "4 11 {'A': 0, 'B': -1, 'C': 1} 1\n"
     ]
    },
    {
     "data": {
      "text/plain": [
       "'ADOBECODEANC'"
      ]
     },
     "execution_count": 40,
     "metadata": {},
     "output_type": "execute_result"
    }
   ],
   "source": []
  },
  {
   "cell_type": "code",
   "execution_count": 42,
   "metadata": {},
   "outputs": [],
   "source": [
    "from collections import defaultdict\n",
    "\n",
    "num2freq = defaultdict(int)"
   ]
  },
  {
   "cell_type": "code",
   "execution_count": 44,
   "metadata": {},
   "outputs": [
    {
     "data": {
      "text/plain": [
       "0"
      ]
     },
     "execution_count": 44,
     "metadata": {},
     "output_type": "execute_result"
    }
   ],
   "source": [
    "num2freq[\"c\"]"
   ]
  },
  {
   "cell_type": "code",
   "execution_count": 48,
   "metadata": {},
   "outputs": [],
   "source": [
    "from collections import defaultdict\n",
    "\n",
    "def minWindow(s,t):\n",
    "    num2freq = defaultdict(int)\n",
    "    n = len(t)\n",
    "    for char in t:\n",
    "        num2freq[char]+=1\n",
    "    distance = n\n",
    "    min_left = 0\n",
    "    min_right = len(s)\n",
    "    left = 0\n",
    "    for right in range(len(s)):\n",
    "        \n",
    "        if num2freq[s[right]]>0:\n",
    "            distance-=1\n",
    "        num2freq[s[right]]-=1\n",
    "        if distance==0:\n",
    "            while num2freq[s[left]]<0:\n",
    "                num2freq[s[left]]+=1\n",
    "                left+=1\n",
    "        \n",
    "            if right-left < min_right - min_left:\n",
    "                min_left,min_right = left,right\n",
    "        \n",
    "            num2freq[s[left]]+=1\n",
    "            left+=1\n",
    "            distance+=1\n",
    "        print(num2freq)\n",
    "    \n",
    "    return \"\" if min_right==len(s) else s[min_left:min_right+1]"
   ]
  },
  {
   "cell_type": "code",
   "execution_count": 49,
   "metadata": {},
   "outputs": [
    {
     "name": "stdout",
     "output_type": "stream",
     "text": [
      "defaultdict(<class 'int'>, {'A': 0, 'B': 1, 'C': 1})\n",
      "defaultdict(<class 'int'>, {'A': 0, 'B': 1, 'C': 1, 'D': -1})\n",
      "defaultdict(<class 'int'>, {'A': 0, 'B': 1, 'C': 1, 'D': -1, 'O': -1})\n",
      "defaultdict(<class 'int'>, {'A': 0, 'B': 0, 'C': 1, 'D': -1, 'O': -1})\n",
      "defaultdict(<class 'int'>, {'A': 0, 'B': 0, 'C': 1, 'D': -1, 'O': -1, 'E': -1})\n",
      "defaultdict(<class 'int'>, {'A': 1, 'B': 0, 'C': 0, 'D': -1, 'O': -1, 'E': -1})\n",
      "defaultdict(<class 'int'>, {'A': 1, 'B': 0, 'C': 0, 'D': -1, 'O': -2, 'E': -1})\n",
      "defaultdict(<class 'int'>, {'A': 1, 'B': 0, 'C': 0, 'D': -2, 'O': -2, 'E': -1})\n",
      "defaultdict(<class 'int'>, {'A': 1, 'B': 0, 'C': 0, 'D': -2, 'O': -2, 'E': -2})\n",
      "defaultdict(<class 'int'>, {'A': 0, 'B': 1, 'C': 0, 'D': -1, 'O': -1, 'E': -2})\n",
      "defaultdict(<class 'int'>, {'A': 0, 'B': 1, 'C': 0, 'D': -1, 'O': -1, 'E': -2, 'N': -1})\n",
      "defaultdict(<class 'int'>, {'A': 0, 'B': 1, 'C': -1, 'D': -1, 'O': -1, 'E': -2, 'N': -1})\n"
     ]
    },
    {
     "data": {
      "text/plain": [
       "'ADOBEC'"
      ]
     },
     "execution_count": 49,
     "metadata": {},
     "output_type": "execute_result"
    }
   ],
   "source": [
    "s = \"ADOBECODEANC\"\n",
    "t = \"ABC\"\n",
    "minWindow(s,t)"
   ]
  },
  {
   "cell_type": "code",
   "execution_count": 50,
   "metadata": {},
   "outputs": [],
   "source": [
    "from collections import Counter\n",
    "\n",
    "t = \"ABCAD\"\n",
    "dict_t = Counter(t)"
   ]
  },
  {
   "cell_type": "code",
   "execution_count": 51,
   "metadata": {},
   "outputs": [
    {
     "data": {
      "text/plain": [
       "Counter({'A': 2, 'B': 1, 'C': 1, 'D': 1})"
      ]
     },
     "execution_count": 51,
     "metadata": {},
     "output_type": "execute_result"
    }
   ],
   "source": [
    "dict_t"
   ]
  },
  {
   "cell_type": "code",
   "execution_count": 52,
   "metadata": {},
   "outputs": [
    {
     "data": {
      "text/plain": [
       "4"
      ]
     },
     "execution_count": 52,
     "metadata": {},
     "output_type": "execute_result"
    }
   ],
   "source": [
    "len(dict_t)"
   ]
  },
  {
   "cell_type": "code",
   "execution_count": 2,
   "metadata": {},
   "outputs": [
    {
     "data": {
      "text/plain": [
       "-2"
      ]
     },
     "execution_count": 2,
     "metadata": {},
     "output_type": "execute_result"
    }
   ],
   "source": [
    "int(-2.8)"
   ]
  },
  {
   "cell_type": "code",
   "execution_count": 15,
   "metadata": {},
   "outputs": [],
   "source": [
    "def solve(board):\n",
    "    #任何和边缘0相连的0都不会被填充，也就是任何不会和边缘0相连的0都将被填充\n",
    "    #通过从边缘0进行记忆化搜索，对所有和边缘0相连的0进行特殊标记\n",
    "    #最后对不是X和特殊标记的0，填充为X\n",
    "    if not board:\n",
    "            return None\n",
    "    def DFS(i,j):\n",
    "        print(i,n,j,m)\n",
    "        if i<0 or j<0 or i >=n or j>=m:\n",
    "            return\n",
    "        if board[i][j]==\"X\":\n",
    "             return\n",
    "        if board[i][j]==\"O\":\n",
    "            board[i][j]=\"^\"\n",
    "            DFS(i+1,j)\n",
    "            DFS(i-1,j)\n",
    "            DFS(i,j+1)\n",
    "            DFS(i,j-1)\n",
    "\n",
    "    m = len(board)\n",
    "    n = len(board[0])\n",
    "    print(m,n)\n",
    "    for i in range(n):\n",
    "        for j in range(m):\n",
    "            if i in {0,n-1} or j in {0,m-1}:\n",
    "                if board[i][j]==\"O\":\n",
    "                    DFS(i,j)\n",
    "    \n",
    "    for i in range(n):\n",
    "        for j in range(m):\n",
    "            if board[i][j]==\"O\":\n",
    "                    board[i][j]=\"X\"\n",
    "    for i in range(n):\n",
    "        for j in range(m):\n",
    "            if board[i][j]==\"^\":\n",
    "                    board[i][j]=\"O\""
   ]
  },
  {
   "cell_type": "code",
   "execution_count": 16,
   "metadata": {},
   "outputs": [],
   "source": [
    "board = [[\"X\",\"O\",\"X\",\"O\",\"X\",\"O\"],[\"O\",\"X\",\"O\",\"X\",\"O\",\"X\"],[\"X\",\"O\",\"X\",\"O\",\"X\",\"O\"],[\"O\",\"X\",\"O\",\"X\",\"O\",\"X\"]]\n"
   ]
  },
  {
   "cell_type": "code",
   "execution_count": 18,
   "metadata": {},
   "outputs": [
    {
     "ename": "IndexError",
     "evalue": "list index out of range",
     "output_type": "error",
     "traceback": [
      "\u001b[1;31m---------------------------------------------------------------------------\u001b[0m",
      "\u001b[1;31mIndexError\u001b[0m                                Traceback (most recent call last)",
      "\u001b[1;32me:\\找工作\\刷题\\vs_leetcode\\help.ipynb 单元格 25\u001b[0m in \u001b[0;36m<cell line: 1>\u001b[1;34m()\u001b[0m\n\u001b[1;32m----> <a href='vscode-notebook-cell:/e%3A/%E6%89%BE%E5%B7%A5%E4%BD%9C/%E5%88%B7%E9%A2%98/vs_leetcode/help.ipynb#X35sZmlsZQ%3D%3D?line=0'>1</a>\u001b[0m board[\u001b[39m4\u001b[39;49m][\u001b[39m0\u001b[39m]\n",
      "\u001b[1;31mIndexError\u001b[0m: list index out of range"
     ]
    }
   ],
   "source": [
    "board[4][0]"
   ]
  },
  {
   "cell_type": "code",
   "execution_count": 17,
   "metadata": {},
   "outputs": [
    {
     "name": "stdout",
     "output_type": "stream",
     "text": [
      "4 6\n",
      "0 6 1 4\n",
      "1 6 1 4\n",
      "-1 6 1 4\n",
      "0 6 2 4\n",
      "0 6 0 4\n",
      "0 6 3 4\n",
      "1 6 3 4\n",
      "-1 6 3 4\n",
      "0 6 4 4\n",
      "0 6 2 4\n",
      "1 6 0 4\n",
      "2 6 0 4\n",
      "0 6 0 4\n",
      "1 6 1 4\n",
      "1 6 -1 4\n",
      "2 6 3 4\n",
      "3 6 3 4\n",
      "1 6 3 4\n",
      "2 6 4 4\n",
      "2 6 2 4\n",
      "3 6 0 4\n",
      "4 6 0 4\n"
     ]
    },
    {
     "ename": "IndexError",
     "evalue": "list index out of range",
     "output_type": "error",
     "traceback": [
      "\u001b[1;31m---------------------------------------------------------------------------\u001b[0m",
      "\u001b[1;31mIndexError\u001b[0m                                Traceback (most recent call last)",
      "\u001b[1;32me:\\找工作\\刷题\\vs_leetcode\\help.ipynb 单元格 25\u001b[0m in \u001b[0;36m<cell line: 1>\u001b[1;34m()\u001b[0m\n\u001b[1;32m----> <a href='vscode-notebook-cell:/e%3A/%E6%89%BE%E5%B7%A5%E4%BD%9C/%E5%88%B7%E9%A2%98/vs_leetcode/help.ipynb#X33sZmlsZQ%3D%3D?line=0'>1</a>\u001b[0m solve(board)\n",
      "\u001b[1;32me:\\找工作\\刷题\\vs_leetcode\\help.ipynb 单元格 25\u001b[0m in \u001b[0;36msolve\u001b[1;34m(board)\u001b[0m\n\u001b[0;32m     <a href='vscode-notebook-cell:/e%3A/%E6%89%BE%E5%B7%A5%E4%BD%9C/%E5%88%B7%E9%A2%98/vs_leetcode/help.ipynb#X33sZmlsZQ%3D%3D?line=24'>25</a>\u001b[0m         \u001b[39mif\u001b[39;00m i \u001b[39min\u001b[39;00m {\u001b[39m0\u001b[39m,n\u001b[39m-\u001b[39m\u001b[39m1\u001b[39m} \u001b[39mor\u001b[39;00m j \u001b[39min\u001b[39;00m {\u001b[39m0\u001b[39m,m\u001b[39m-\u001b[39m\u001b[39m1\u001b[39m}:\n\u001b[0;32m     <a href='vscode-notebook-cell:/e%3A/%E6%89%BE%E5%B7%A5%E4%BD%9C/%E5%88%B7%E9%A2%98/vs_leetcode/help.ipynb#X33sZmlsZQ%3D%3D?line=25'>26</a>\u001b[0m             \u001b[39mif\u001b[39;00m board[i][j]\u001b[39m==\u001b[39m\u001b[39m\"\u001b[39m\u001b[39mO\u001b[39m\u001b[39m\"\u001b[39m:\n\u001b[1;32m---> <a href='vscode-notebook-cell:/e%3A/%E6%89%BE%E5%B7%A5%E4%BD%9C/%E5%88%B7%E9%A2%98/vs_leetcode/help.ipynb#X33sZmlsZQ%3D%3D?line=26'>27</a>\u001b[0m                 DFS(i,j)\n\u001b[0;32m     <a href='vscode-notebook-cell:/e%3A/%E6%89%BE%E5%B7%A5%E4%BD%9C/%E5%88%B7%E9%A2%98/vs_leetcode/help.ipynb#X33sZmlsZQ%3D%3D?line=28'>29</a>\u001b[0m \u001b[39mfor\u001b[39;00m i \u001b[39min\u001b[39;00m \u001b[39mrange\u001b[39m(n):\n\u001b[0;32m     <a href='vscode-notebook-cell:/e%3A/%E6%89%BE%E5%B7%A5%E4%BD%9C/%E5%88%B7%E9%A2%98/vs_leetcode/help.ipynb#X33sZmlsZQ%3D%3D?line=29'>30</a>\u001b[0m     \u001b[39mfor\u001b[39;00m j \u001b[39min\u001b[39;00m \u001b[39mrange\u001b[39m(m):\n",
      "\u001b[1;32me:\\找工作\\刷题\\vs_leetcode\\help.ipynb 单元格 25\u001b[0m in \u001b[0;36msolve.<locals>.DFS\u001b[1;34m(i, j)\u001b[0m\n\u001b[0;32m     <a href='vscode-notebook-cell:/e%3A/%E6%89%BE%E5%B7%A5%E4%BD%9C/%E5%88%B7%E9%A2%98/vs_leetcode/help.ipynb#X33sZmlsZQ%3D%3D?line=12'>13</a>\u001b[0m \u001b[39mif\u001b[39;00m board[i][j]\u001b[39m==\u001b[39m\u001b[39m\"\u001b[39m\u001b[39mO\u001b[39m\u001b[39m\"\u001b[39m:\n\u001b[0;32m     <a href='vscode-notebook-cell:/e%3A/%E6%89%BE%E5%B7%A5%E4%BD%9C/%E5%88%B7%E9%A2%98/vs_leetcode/help.ipynb#X33sZmlsZQ%3D%3D?line=13'>14</a>\u001b[0m     board[i][j]\u001b[39m=\u001b[39m\u001b[39m\"\u001b[39m\u001b[39m^\u001b[39m\u001b[39m\"\u001b[39m\n\u001b[1;32m---> <a href='vscode-notebook-cell:/e%3A/%E6%89%BE%E5%B7%A5%E4%BD%9C/%E5%88%B7%E9%A2%98/vs_leetcode/help.ipynb#X33sZmlsZQ%3D%3D?line=14'>15</a>\u001b[0m     DFS(i\u001b[39m+\u001b[39;49m\u001b[39m1\u001b[39;49m,j)\n\u001b[0;32m     <a href='vscode-notebook-cell:/e%3A/%E6%89%BE%E5%B7%A5%E4%BD%9C/%E5%88%B7%E9%A2%98/vs_leetcode/help.ipynb#X33sZmlsZQ%3D%3D?line=15'>16</a>\u001b[0m     DFS(i\u001b[39m-\u001b[39m\u001b[39m1\u001b[39m,j)\n\u001b[0;32m     <a href='vscode-notebook-cell:/e%3A/%E6%89%BE%E5%B7%A5%E4%BD%9C/%E5%88%B7%E9%A2%98/vs_leetcode/help.ipynb#X33sZmlsZQ%3D%3D?line=16'>17</a>\u001b[0m     DFS(i,j\u001b[39m+\u001b[39m\u001b[39m1\u001b[39m)\n",
      "\u001b[1;32me:\\找工作\\刷题\\vs_leetcode\\help.ipynb 单元格 25\u001b[0m in \u001b[0;36msolve.<locals>.DFS\u001b[1;34m(i, j)\u001b[0m\n\u001b[0;32m      <a href='vscode-notebook-cell:/e%3A/%E6%89%BE%E5%B7%A5%E4%BD%9C/%E5%88%B7%E9%A2%98/vs_leetcode/help.ipynb#X33sZmlsZQ%3D%3D?line=8'>9</a>\u001b[0m \u001b[39mif\u001b[39;00m i\u001b[39m<\u001b[39m\u001b[39m0\u001b[39m \u001b[39mor\u001b[39;00m j\u001b[39m<\u001b[39m\u001b[39m0\u001b[39m \u001b[39mor\u001b[39;00m i \u001b[39m>\u001b[39m\u001b[39m=\u001b[39mn \u001b[39mor\u001b[39;00m j\u001b[39m>\u001b[39m\u001b[39m=\u001b[39mm:\n\u001b[0;32m     <a href='vscode-notebook-cell:/e%3A/%E6%89%BE%E5%B7%A5%E4%BD%9C/%E5%88%B7%E9%A2%98/vs_leetcode/help.ipynb#X33sZmlsZQ%3D%3D?line=9'>10</a>\u001b[0m     \u001b[39mreturn\u001b[39;00m\n\u001b[1;32m---> <a href='vscode-notebook-cell:/e%3A/%E6%89%BE%E5%B7%A5%E4%BD%9C/%E5%88%B7%E9%A2%98/vs_leetcode/help.ipynb#X33sZmlsZQ%3D%3D?line=10'>11</a>\u001b[0m \u001b[39mif\u001b[39;00m board[i][j]\u001b[39m==\u001b[39m\u001b[39m\"\u001b[39m\u001b[39mX\u001b[39m\u001b[39m\"\u001b[39m:\n\u001b[0;32m     <a href='vscode-notebook-cell:/e%3A/%E6%89%BE%E5%B7%A5%E4%BD%9C/%E5%88%B7%E9%A2%98/vs_leetcode/help.ipynb#X33sZmlsZQ%3D%3D?line=11'>12</a>\u001b[0m      \u001b[39mreturn\u001b[39;00m\n\u001b[0;32m     <a href='vscode-notebook-cell:/e%3A/%E6%89%BE%E5%B7%A5%E4%BD%9C/%E5%88%B7%E9%A2%98/vs_leetcode/help.ipynb#X33sZmlsZQ%3D%3D?line=12'>13</a>\u001b[0m \u001b[39mif\u001b[39;00m board[i][j]\u001b[39m==\u001b[39m\u001b[39m\"\u001b[39m\u001b[39mO\u001b[39m\u001b[39m\"\u001b[39m:\n",
      "\u001b[1;31mIndexError\u001b[0m: list index out of range"
     ]
    }
   ],
   "source": [
    "solve(board)"
   ]
  },
  {
   "cell_type": "code",
   "execution_count": null,
   "metadata": {},
   "outputs": [],
   "source": []
  }
 ],
 "metadata": {
  "kernelspec": {
   "display_name": "base",
   "language": "python",
   "name": "python3"
  },
  "language_info": {
   "codemirror_mode": {
    "name": "ipython",
    "version": 3
   },
   "file_extension": ".py",
   "mimetype": "text/x-python",
   "name": "python",
   "nbconvert_exporter": "python",
   "pygments_lexer": "ipython3",
   "version": "3.9.7"
  },
  "orig_nbformat": 4
 },
 "nbformat": 4,
 "nbformat_minor": 2
}
